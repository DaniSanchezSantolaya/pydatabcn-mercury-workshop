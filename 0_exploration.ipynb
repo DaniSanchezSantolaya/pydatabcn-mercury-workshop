{
 "cells": [
  {
   "cell_type": "markdown",
   "id": "0fc76ea6",
   "metadata": {},
   "source": [
    "## Data Files\n",
    "\n",
    "We have two data files:\n",
    "\n",
    "- uci_credit_drifted_historic.csv: This file represent the historical data. Is the data available at the moment of training the model\n",
    "- uci_credit_drifted_inference.csv: This file represents the data that we receive after training the moment. Is the data that we want to make the predictions"
   ]
  },
  {
   "cell_type": "markdown",
   "id": "8a86fae4",
   "metadata": {},
   "source": [
    "## UCI Credit Dataset\n",
    "\n",
    "We will use the default credit card Dataset from the UCI machine learning repository. The dataset was used in [[1]](#[1]). \n",
    "\n",
    "This dataset contains information on default payments, demographic factors, credit data, history of payment, and bill statements of credit card clients. The goal will be predict if a customer will default on a credit\n",
    "\n",
    "The next columns are available in the dataset:\n",
    "\n",
    "\n",
    "- LIMIT_BAL: Amount of given credit in NT dollars (includes individual and family/supplementary credit\n",
    "- SEX: Gender (1=male, 2=female)\n",
    "- EDUCATION: (1=graduate school, 2=university, 3=high school, 4=others, 5=unknown, 6=unknown)\n",
    "- MARRIAGE: Marital status (1=married, 2=single, 3=others)\n",
    "- AGE: Age in years\n",
    "- PAY_0: Repayment status in September, 2005 (-1=pay duly, 1=payment delay for one month, 2=payment delay for two months, … 8=payment delay for eight months, 9=payment delay for nine months and above)\n",
    "- PAY_2: Repayment status in August, 2005 (scale same as above)\n",
    "- PAY_3: Repayment status in July, 2005 (scale same as above)\n",
    "- PAY_4: Repayment status in June, 2005 (scale same as above)\n",
    "- PAY_5: Repayment status in May, 2005 (scale same as above)\n",
    "- PAY_6: Repayment status in April, 2005 (scale same as above)\n",
    "- BILL_AMT1: Amount of bill statement in September, 2005 (NT dollar)\n",
    "- BILL_AMT2: Amount of bill statement in August, 2005 (NT dollar)\n",
    "- BILL_AMT3: Amount of bill statement in July, 2005 (NT dollar)\n",
    "- BILL_AMT4: Amount of bill statement in June, 2005 (NT dollar)\n",
    "- BILL_AMT5: Amount of bill statement in May, 2005 (NT dollar)\n",
    "- BILL_AMT6: Amount of bill statement in April, 2005 (NT dollar)\n",
    "- PAY_AMT1: Amount of previous payment in September, 2005 (NT dollar)\n",
    "- PAY_AMT2: Amount of previous payment in August, 2005 (NT dollar)\n",
    "- PAY_AMT3: Amount of previous payment in July, 2005 (NT dollar)\n",
    "- PAY_AMT4: Amount of previous payment in June, 2005 (NT dollar)\n",
    "- PAY_AMT5: Amount of previous payment in May, 2005 (NT dollar)\n",
    "- PAY_AMT6: Amount of previous payment in April, 2005 (NT dollar)\n",
    "- default.payment.next.month: Default payment (1=yes, 0=no). This is the Target variable\n",
    "\n",
    "Besides that, we also created a few columns:\n",
    "\n",
    "- WARNING_SENT: Variable indicating for those customer that had credit default they received a special warning before\n",
    "- time: time when we get the customer information. I could indicate the month of the year for example\n",
    "- id: Id of the customer\n",
    "\n"
   ]
  },
  {
   "cell_type": "code",
   "execution_count": null,
   "id": "71f22036",
   "metadata": {},
   "outputs": [],
   "source": [
    "import pandas as pd"
   ]
  },
  {
   "cell_type": "code",
   "execution_count": 4,
   "id": "33babf43",
   "metadata": {},
   "outputs": [],
   "source": [
    "df = pd.read_csv(\"data/uci_credit_drifted_historic.csv\")"
   ]
  },
  {
   "cell_type": "code",
   "execution_count": 7,
   "id": "c0262c7d",
   "metadata": {},
   "outputs": [],
   "source": [
    "df.to_csv(\"data/uci_credit_drifted_historic.csv\", index=False)"
   ]
  },
  {
   "cell_type": "code",
   "execution_count": 8,
   "id": "e096feac",
   "metadata": {},
   "outputs": [
    {
     "data": {
      "text/html": [
       "<div>\n",
       "<style scoped>\n",
       "    .dataframe tbody tr th:only-of-type {\n",
       "        vertical-align: middle;\n",
       "    }\n",
       "\n",
       "    .dataframe tbody tr th {\n",
       "        vertical-align: top;\n",
       "    }\n",
       "\n",
       "    .dataframe thead th {\n",
       "        text-align: right;\n",
       "    }\n",
       "</style>\n",
       "<table border=\"1\" class=\"dataframe\">\n",
       "  <thead>\n",
       "    <tr style=\"text-align: right;\">\n",
       "      <th></th>\n",
       "      <th>LIMIT_BAL</th>\n",
       "      <th>SEX</th>\n",
       "      <th>EDUCATION</th>\n",
       "      <th>MARRIAGE</th>\n",
       "      <th>AGE</th>\n",
       "      <th>PAY_0</th>\n",
       "      <th>PAY_2</th>\n",
       "      <th>PAY_3</th>\n",
       "      <th>PAY_4</th>\n",
       "      <th>PAY_5</th>\n",
       "      <th>...</th>\n",
       "      <th>PAY_AMT1</th>\n",
       "      <th>PAY_AMT2</th>\n",
       "      <th>PAY_AMT3</th>\n",
       "      <th>PAY_AMT4</th>\n",
       "      <th>PAY_AMT5</th>\n",
       "      <th>PAY_AMT6</th>\n",
       "      <th>default.payment.next.month</th>\n",
       "      <th>WARNING_SENT</th>\n",
       "      <th>time</th>\n",
       "      <th>id</th>\n",
       "    </tr>\n",
       "  </thead>\n",
       "  <tbody>\n",
       "    <tr>\n",
       "      <th>0</th>\n",
       "      <td>50000.0</td>\n",
       "      <td>1</td>\n",
       "      <td>2</td>\n",
       "      <td>1</td>\n",
       "      <td>57</td>\n",
       "      <td>-1</td>\n",
       "      <td>0</td>\n",
       "      <td>-1</td>\n",
       "      <td>0</td>\n",
       "      <td>0</td>\n",
       "      <td>...</td>\n",
       "      <td>2000.0</td>\n",
       "      <td>36681.0</td>\n",
       "      <td>10000.0</td>\n",
       "      <td>9000.0</td>\n",
       "      <td>689.0</td>\n",
       "      <td>679.0</td>\n",
       "      <td>0</td>\n",
       "      <td>0</td>\n",
       "      <td>1</td>\n",
       "      <td>4</td>\n",
       "    </tr>\n",
       "    <tr>\n",
       "      <th>1</th>\n",
       "      <td>500000.0</td>\n",
       "      <td>1</td>\n",
       "      <td>1</td>\n",
       "      <td>2</td>\n",
       "      <td>29</td>\n",
       "      <td>0</td>\n",
       "      <td>0</td>\n",
       "      <td>0</td>\n",
       "      <td>0</td>\n",
       "      <td>0</td>\n",
       "      <td>...</td>\n",
       "      <td>55000.0</td>\n",
       "      <td>40000.0</td>\n",
       "      <td>38000.0</td>\n",
       "      <td>20239.0</td>\n",
       "      <td>13750.0</td>\n",
       "      <td>13770.0</td>\n",
       "      <td>0</td>\n",
       "      <td>0</td>\n",
       "      <td>1</td>\n",
       "      <td>6</td>\n",
       "    </tr>\n",
       "    <tr>\n",
       "      <th>2</th>\n",
       "      <td>100000.0</td>\n",
       "      <td>2</td>\n",
       "      <td>2</td>\n",
       "      <td>2</td>\n",
       "      <td>23</td>\n",
       "      <td>0</td>\n",
       "      <td>-1</td>\n",
       "      <td>-1</td>\n",
       "      <td>0</td>\n",
       "      <td>0</td>\n",
       "      <td>...</td>\n",
       "      <td>380.0</td>\n",
       "      <td>601.0</td>\n",
       "      <td>0.0</td>\n",
       "      <td>581.0</td>\n",
       "      <td>1687.0</td>\n",
       "      <td>1542.0</td>\n",
       "      <td>0</td>\n",
       "      <td>0</td>\n",
       "      <td>1</td>\n",
       "      <td>7</td>\n",
       "    </tr>\n",
       "    <tr>\n",
       "      <th>3</th>\n",
       "      <td>260000.0</td>\n",
       "      <td>2</td>\n",
       "      <td>1</td>\n",
       "      <td>2</td>\n",
       "      <td>51</td>\n",
       "      <td>-1</td>\n",
       "      <td>-1</td>\n",
       "      <td>-1</td>\n",
       "      <td>-1</td>\n",
       "      <td>-1</td>\n",
       "      <td>...</td>\n",
       "      <td>21818.0</td>\n",
       "      <td>9966.0</td>\n",
       "      <td>8583.0</td>\n",
       "      <td>22301.0</td>\n",
       "      <td>0.0</td>\n",
       "      <td>3640.0</td>\n",
       "      <td>0</td>\n",
       "      <td>0</td>\n",
       "      <td>1</td>\n",
       "      <td>11</td>\n",
       "    </tr>\n",
       "    <tr>\n",
       "      <th>4</th>\n",
       "      <td>630000.0</td>\n",
       "      <td>2</td>\n",
       "      <td>2</td>\n",
       "      <td>2</td>\n",
       "      <td>41</td>\n",
       "      <td>-1</td>\n",
       "      <td>0</td>\n",
       "      <td>-1</td>\n",
       "      <td>-1</td>\n",
       "      <td>-1</td>\n",
       "      <td>...</td>\n",
       "      <td>1000.0</td>\n",
       "      <td>6500.0</td>\n",
       "      <td>6500.0</td>\n",
       "      <td>6500.0</td>\n",
       "      <td>2870.0</td>\n",
       "      <td>0.0</td>\n",
       "      <td>0</td>\n",
       "      <td>0</td>\n",
       "      <td>1</td>\n",
       "      <td>12</td>\n",
       "    </tr>\n",
       "  </tbody>\n",
       "</table>\n",
       "<p>5 rows × 27 columns</p>\n",
       "</div>"
      ],
      "text/plain": [
       "   LIMIT_BAL  SEX  EDUCATION  MARRIAGE  AGE  PAY_0  PAY_2  PAY_3  PAY_4  \\\n",
       "0    50000.0    1          2         1   57     -1      0     -1      0   \n",
       "1   500000.0    1          1         2   29      0      0      0      0   \n",
       "2   100000.0    2          2         2   23      0     -1     -1      0   \n",
       "3   260000.0    2          1         2   51     -1     -1     -1     -1   \n",
       "4   630000.0    2          2         2   41     -1      0     -1     -1   \n",
       "\n",
       "   PAY_5  ...  PAY_AMT1  PAY_AMT2  PAY_AMT3  PAY_AMT4  PAY_AMT5  PAY_AMT6  \\\n",
       "0      0  ...    2000.0   36681.0   10000.0    9000.0     689.0     679.0   \n",
       "1      0  ...   55000.0   40000.0   38000.0   20239.0   13750.0   13770.0   \n",
       "2      0  ...     380.0     601.0       0.0     581.0    1687.0    1542.0   \n",
       "3     -1  ...   21818.0    9966.0    8583.0   22301.0       0.0    3640.0   \n",
       "4     -1  ...    1000.0    6500.0    6500.0    6500.0    2870.0       0.0   \n",
       "\n",
       "   default.payment.next.month  WARNING_SENT  time  id  \n",
       "0                           0             0     1   4  \n",
       "1                           0             0     1   6  \n",
       "2                           0             0     1   7  \n",
       "3                           0             0     1  11  \n",
       "4                           0             0     1  12  \n",
       "\n",
       "[5 rows x 27 columns]"
      ]
     },
     "execution_count": 8,
     "metadata": {},
     "output_type": "execute_result"
    }
   ],
   "source": [
    "df.head()"
   ]
  },
  {
   "cell_type": "markdown",
   "id": "0c10bad1",
   "metadata": {},
   "source": [
    "### Target is unbalanced"
   ]
  },
  {
   "cell_type": "code",
   "execution_count": 9,
   "id": "c2d51cd2",
   "metadata": {},
   "outputs": [
    {
     "data": {
      "text/plain": [
       "0    9607\n",
       "1    1593\n",
       "Name: default.payment.next.month, dtype: int64"
      ]
     },
     "execution_count": 9,
     "metadata": {},
     "output_type": "execute_result"
    }
   ],
   "source": [
    "df[\"default.payment.next.month\"].value_counts()"
   ]
  },
  {
   "cell_type": "markdown",
   "id": "f94bd89a",
   "metadata": {},
   "source": [
    "### Customers with payment delay in previous month increases over time in the inference data\n",
    "\n",
    "NOTE: we show here for the illustration of the problem setup, but we wouldn't have the inference data before training the model. "
   ]
  },
  {
   "cell_type": "code",
   "execution_count": 17,
   "id": "1f75f0bd",
   "metadata": {},
   "outputs": [],
   "source": [
    "df_inference = pd.read_csv(\"data/uci_credit_drifted_inference.csv\")"
   ]
  },
  {
   "cell_type": "code",
   "execution_count": 18,
   "id": "729765d8",
   "metadata": {},
   "outputs": [],
   "source": [
    "df_inference[\"DELAY_LAST_MONTH\"] = df_inference[\"PAY_0\"].apply(lambda x: True if x > 0 else False)"
   ]
  },
  {
   "cell_type": "code",
   "execution_count": 19,
   "id": "7b01b42a",
   "metadata": {},
   "outputs": [
    {
     "data": {
      "image/png": "[encoded data removed]",
      "text/plain": [
       "<Figure size 640x480 with 1 Axes>"
      ]
     },
     "metadata": {},
     "output_type": "display_data"
    }
   ],
   "source": [
    "import seaborn as sns\n",
    "sample_counts = df_inference[df_inference[\"time\"] >= 1].groupby([\"time\", \"DELAY_LAST_MONTH\"])[\"id\"].count().to_frame().reset_index()\n",
    "sample_counts = sample_counts.rename(columns={\"id\": \"count\"})\n",
    "sample_counts = sample_counts[sample_counts[\"time\"] > 1]\n",
    "ax = sns.lineplot(x=\"time\", y=\"count\", hue=\"DELAY_LAST_MONTH\", data=sample_counts)"
   ]
  },
  {
   "cell_type": "markdown",
   "id": "02934e7b",
   "metadata": {},
   "source": [
    "## References\n",
    "\n",
    "<a id=\"[1]\">[1]</a>\n",
    "Yeh, I. C., & Lien, C. H. (2009). The comparisons of data mining techniques for the predictive accuracy of probability of default of credit card clients. Expert Systems with Applications, 36(2), 2473-2480. https://archive.ics.uci.edu/ml/datasets/default+of+credit+card+clients"
   ]
  }
 ],
 "metadata": {
  "kernelspec": {
   "display_name": "Python 3 (ipykernel)",
   "language": "python",
   "name": "python3"
  },
  "language_info": {
   "codemirror_mode": {
    "name": "ipython",
    "version": 3
   },
   "file_extension": ".py",
   "mimetype": "text/x-python",
   "name": "python",
   "nbconvert_exporter": "python",
   "pygments_lexer": "ipython3",
   "version": "3.9.13"
  }
 },
 "nbformat": 4,
 "nbformat_minor": 5
}
